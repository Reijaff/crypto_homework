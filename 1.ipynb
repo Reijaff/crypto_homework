{
 "cells": [
  {
   "attachments": {},
   "cell_type": "markdown",
   "metadata": {},
   "source": [
    "Теоретико-числові алгоритми у криптології\n",
    "\n",
    "Домашнє завдання #1\n",
    "\n",
    "Костюковець Остап ФБ-06"
   ]
  },
  {
   "cell_type": "code",
   "execution_count": null,
   "metadata": {},
   "outputs": [],
   "source": [
    "using Symbolics\n",
    "using Latexify\n",
    "using Primes\n",
    "using LaTeXStrings\n",
    "\n",
    "function rep!(expression::Expr, rules::Dict)\n",
    "    for (i, a) in enumerate(expression.args)\n",
    "        if a isa Expr\n",
    "            rep!(a, rules)\n",
    "        else\n",
    "            for (old, new) in rules\n",
    "                if a == old\n",
    "                    expression.args[i] = new\n",
    "                end\n",
    "            end\n",
    "        end\n",
    "    end\n",
    "    expression\n",
    "end\n",
    "print()"
   ]
  },
  {
   "attachments": {},
   "cell_type": "markdown",
   "metadata": {},
   "source": [
    "1\n",
    "\n",
    "Метод Полларда (класичний)"
   ]
  },
  {
   "cell_type": "code",
   "execution_count": 75,
   "metadata": {},
   "outputs": [
    {
     "data": {
      "text/latex": [
       "$a)$"
      ],
      "text/plain": [
       "L\"$a)$\""
      ]
     },
     "metadata": {},
     "output_type": "display_data"
    },
    {
     "data": {
      "text/latex": [
       "$n = 8051$"
      ],
      "text/plain": [
       "L\"$n = 8051$\""
      ]
     },
     "metadata": {},
     "output_type": "display_data"
    },
    {
     "data": {
      "text/latex": [
       "$f\\left( x \\right) = 1 + x^{2}$"
      ],
      "text/plain": [
       "L\"$f\\left( x \\right) = 1 + x^{2}$\""
      ]
     },
     "metadata": {},
     "output_type": "display_data"
    },
    {
     "data": {
      "text/latex": [
       "$x_0 = 1$"
      ],
      "text/plain": [
       "L\"$x_0 = 1$\""
      ]
     },
     "metadata": {},
     "output_type": "display_data"
    },
    {
     "data": {
      "text/latex": [
       "$x_{1}$ = $f(x_{0}) \\pmod n$ = $\\ 1 + x^{2} \\pmod{n} = \\ 1 + 1^{2} \\pmod{8051} = 2$"
      ],
      "text/plain": [
       "L\"$x_{1}$ = $f(x_{0}) \\pmod n$ = $\\ 1 + x^{2} \\pmod{n} = \\ 1 + 1^{2} \\pmod{8051} = 2$\""
      ]
     },
     "metadata": {},
     "output_type": "display_data"
    },
    {
     "data": {
      "text/latex": [
       "$x_{2}$ = $f(x_{1}) \\pmod n$ = $\\ 1 + x^{2} \\pmod{n} = \\ 1 + 2^{2} \\pmod{8051} = 5$"
      ],
      "text/plain": [
       "L\"$x_{2}$ = $f(x_{1}) \\pmod n$ = $\\ 1 + x^{2} \\pmod{n} = \\ 1 + 2^{2} \\pmod{8051} = 5$\""
      ]
     },
     "metadata": {},
     "output_type": "display_data"
    },
    {
     "data": {
      "text/latex": [
       "$x_{2}$ − $x_{1} \\pmod n$ = $\\ 5 - 2 \\pmod{8051} = 3$ ⇒ $НСД(3, 8051)$ = $1$"
      ],
      "text/plain": [
       "L\"$x_{2}$ − $x_{1} \\pmod n$ = $\\ 5 - 2 \\pmod{8051} = 3$ ⇒ $НСД(3, 8051)$ = $1$\""
      ]
     },
     "metadata": {},
     "output_type": "display_data"
    },
    {
     "data": {
      "text/latex": [
       "$x_{3}$ = $f(x_{2}) \\pmod n$ = $\\ 1 + x^{2} \\pmod{n} = \\ 1 + 5^{2} \\pmod{8051} = 26$"
      ],
      "text/plain": [
       "L\"$x_{3}$ = $f(x_{2}) \\pmod n$ = $\\ 1 + x^{2} \\pmod{n} = \\ 1 + 5^{2} \\pmod{8051} = 26$\""
      ]
     },
     "metadata": {},
     "output_type": "display_data"
    },
    {
     "data": {
      "text/latex": [
       "$x_{3}$ − $x_{1} \\pmod n$ = $\\ 26 - 2 \\pmod{8051} = 24$ ⇒ $НСД(24, 8051)$ = $1$"
      ],
      "text/plain": [
       "L\"$x_{3}$ − $x_{1} \\pmod n$ = $\\ 26 - 2 \\pmod{8051} = 24$ ⇒ $НСД(24, 8051)$ = $1$\""
      ]
     },
     "metadata": {},
     "output_type": "display_data"
    },
    {
     "data": {
      "text/latex": [
       "$x_{3}$ − $x_{2} \\pmod n$ = $\\ 26 - 5 \\pmod{8051} = 21$ ⇒ $НСД(21, 8051)$ = $1$"
      ],
      "text/plain": [
       "L\"$x_{3}$ − $x_{2} \\pmod n$ = $\\ 26 - 5 \\pmod{8051} = 21$ ⇒ $НСД(21, 8051)$ = $1$\""
      ]
     },
     "metadata": {},
     "output_type": "display_data"
    },
    {
     "data": {
      "text/latex": [
       "$x_{4}$ = $f(x_{3}) \\pmod n$ = $\\ 1 + x^{2} \\pmod{n} = \\ 1 + 26^{2} \\pmod{8051} = 677$"
      ],
      "text/plain": [
       "L\"$x_{4}$ = $f(x_{3}) \\pmod n$ = $\\ 1 + x^{2} \\pmod{n} = \\ 1 + 26^{2} \\pmod{8051} = 677$\""
      ]
     },
     "metadata": {},
     "output_type": "display_data"
    },
    {
     "data": {
      "text/latex": [
       "$x_{4}$ − $x_{1} \\pmod n$ = $\\ 677 - 2 \\pmod{8051} = 675$ ⇒ $НСД(675, 8051)$ = $1$"
      ],
      "text/plain": [
       "L\"$x_{4}$ − $x_{1} \\pmod n$ = $\\ 677 - 2 \\pmod{8051} = 675$ ⇒ $НСД(675, 8051)$ = $1$\""
      ]
     },
     "metadata": {},
     "output_type": "display_data"
    },
    {
     "data": {
      "text/latex": [
       "$x_{4}$ − $x_{2} \\pmod n$ = $\\ 677 - 5 \\pmod{8051} = 672$ ⇒ $НСД(672, 8051)$ = $1$"
      ],
      "text/plain": [
       "L\"$x_{4}$ − $x_{2} \\pmod n$ = $\\ 677 - 5 \\pmod{8051} = 672$ ⇒ $НСД(672, 8051)$ = $1$\""
      ]
     },
     "metadata": {},
     "output_type": "display_data"
    },
    {
     "data": {
      "text/latex": [
       "$x_{4}$ − $x_{3} \\pmod n$ = $\\ 677 - 26 \\pmod{8051} = 651$ ⇒ $НСД(651, 8051)$ = $1$"
      ],
      "text/plain": [
       "L\"$x_{4}$ − $x_{3} \\pmod n$ = $\\ 677 - 26 \\pmod{8051} = 651$ ⇒ $НСД(651, 8051)$ = $1$\""
      ]
     },
     "metadata": {},
     "output_type": "display_data"
    },
    {
     "data": {
      "text/latex": [
       "$x_{5}$ = $f(x_{4}) \\pmod n$ = $\\ 1 + x^{2} \\pmod{n} = \\ 1 + 677^{2} \\pmod{8051} = 7474$"
      ],
      "text/plain": [
       "L\"$x_{5}$ = $f(x_{4}) \\pmod n$ = $\\ 1 + x^{2} \\pmod{n} = \\ 1 + 677^{2} \\pmod{8051} = 7474$\""
      ]
     },
     "metadata": {},
     "output_type": "display_data"
    },
    {
     "data": {
      "text/latex": [
       "$x_{5}$ − $x_{1} \\pmod n$ = $\\ 7474 - 2 \\pmod{8051} = 7472$ ⇒ $НСД(7472, 8051)$ = $1$"
      ],
      "text/plain": [
       "L\"$x_{5}$ − $x_{1} \\pmod n$ = $\\ 7474 - 2 \\pmod{8051} = 7472$ ⇒ $НСД(7472, 8051)$ = $1$\""
      ]
     },
     "metadata": {},
     "output_type": "display_data"
    },
    {
     "data": {
      "text/latex": [
       "$x_{5}$ − $x_{2} \\pmod n$ = $\\ 7474 - 5 \\pmod{8051} = 7469$ ⇒ $НСД(7469, 8051)$ = $97$"
      ],
      "text/plain": [
       "L\"$x_{5}$ − $x_{2} \\pmod n$ = $\\ 7474 - 5 \\pmod{8051} = 7469$ ⇒ $НСД(7469, 8051)$ = $97$\""
      ]
     },
     "metadata": {},
     "output_type": "display_data"
    },
    {
     "data": {
      "text/latex": [
       "$p = 97$"
      ],
      "text/plain": [
       "L\"$p = 97$\""
      ]
     },
     "metadata": {},
     "output_type": "display_data"
    },
    {
     "data": {
      "text/latex": [
       "$b)$"
      ],
      "text/plain": [
       "L\"$b)$\""
      ]
     },
     "metadata": {},
     "output_type": "display_data"
    },
    {
     "data": {
      "text/latex": [
       "$n = 7031$"
      ],
      "text/plain": [
       "L\"$n = 7031$\""
      ]
     },
     "metadata": {},
     "output_type": "display_data"
    },
    {
     "data": {
      "text/latex": [
       "$f\\left( x \\right) = -1 + x^{2}$"
      ],
      "text/plain": [
       "L\"$f\\left( x \\right) = -1 + x^{2}$\""
      ]
     },
     "metadata": {},
     "output_type": "display_data"
    },
    {
     "data": {
      "text/latex": [
       "$x_0 = 5$"
      ],
      "text/plain": [
       "L\"$x_0 = 5$\""
      ]
     },
     "metadata": {},
     "output_type": "display_data"
    },
    {
     "data": {
      "text/latex": [
       "$x_{1}$ = $f(x_{0}) \\pmod n$ = $\\ -1 + x^{2} \\pmod{n} = \\ -1 + 5^{2} \\pmod{7031} = 24$"
      ],
      "text/plain": [
       "L\"$x_{1}$ = $f(x_{0}) \\pmod n$ = $\\ -1 + x^{2} \\pmod{n} = \\ -1 + 5^{2} \\pmod{7031} = 24$\""
      ]
     },
     "metadata": {},
     "output_type": "display_data"
    },
    {
     "data": {
      "text/latex": [
       "$x_{2}$ = $f(x_{1}) \\pmod n$ = $\\ -1 + x^{2} \\pmod{n} = \\ -1 + 24^{2} \\pmod{7031} = 575$"
      ],
      "text/plain": [
       "L\"$x_{2}$ = $f(x_{1}) \\pmod n$ = $\\ -1 + x^{2} \\pmod{n} = \\ -1 + 24^{2} \\pmod{7031} = 575$\""
      ]
     },
     "metadata": {},
     "output_type": "display_data"
    },
    {
     "data": {
      "text/latex": [
       "$x_{2}$ − $x_{1} \\pmod n$ = $\\ 575 - 24 \\pmod{7031} = 551$ ⇒ $НСД(551, 7031)$ = $1$"
      ],
      "text/plain": [
       "L\"$x_{2}$ − $x_{1} \\pmod n$ = $\\ 575 - 24 \\pmod{7031} = 551$ ⇒ $НСД(551, 7031)$ = $1$\""
      ]
     },
     "metadata": {},
     "output_type": "display_data"
    },
    {
     "data": {
      "text/latex": [
       "$x_{3}$ = $f(x_{2}) \\pmod n$ = $\\ -1 + x^{2} \\pmod{n} = \\ -1 + 575^{2} \\pmod{7031} = 167$"
      ],
      "text/plain": [
       "L\"$x_{3}$ = $f(x_{2}) \\pmod n$ = $\\ -1 + x^{2} \\pmod{n} = \\ -1 + 575^{2} \\pmod{7031} = 167$\""
      ]
     },
     "metadata": {},
     "output_type": "display_data"
    },
    {
     "data": {
      "text/latex": [
       "$x_{3}$ − $x_{1} \\pmod n$ = $\\ 167 - 24 \\pmod{7031} = 143$ ⇒ $НСД(143, 7031)$ = $1$"
      ],
      "text/plain": [
       "L\"$x_{3}$ − $x_{1} \\pmod n$ = $\\ 167 - 24 \\pmod{7031} = 143$ ⇒ $НСД(143, 7031)$ = $1$\""
      ]
     },
     "metadata": {},
     "output_type": "display_data"
    },
    {
     "data": {
      "text/latex": [
       "$x_{3}$ − $x_{2} \\pmod n$ = $\\ 167 - 575 \\pmod{7031} = 6623$ ⇒ $НСД(6623, 7031)$ = $1$"
      ],
      "text/plain": [
       "L\"$x_{3}$ − $x_{2} \\pmod n$ = $\\ 167 - 575 \\pmod{7031} = 6623$ ⇒ $НСД(6623, 7031)$ = $1$\""
      ]
     },
     "metadata": {},
     "output_type": "display_data"
    },
    {
     "data": {
      "text/latex": [
       "$x_{4}$ = $f(x_{3}) \\pmod n$ = $\\ -1 + x^{2} \\pmod{n} = \\ -1 + 167^{2} \\pmod{7031} = 6795$"
      ],
      "text/plain": [
       "L\"$x_{4}$ = $f(x_{3}) \\pmod n$ = $\\ -1 + x^{2} \\pmod{n} = \\ -1 + 167^{2} \\pmod{7031} = 6795$\""
      ]
     },
     "metadata": {},
     "output_type": "display_data"
    },
    {
     "data": {
      "text/latex": [
       "$x_{4}$ − $x_{1} \\pmod n$ = $\\ 6795 - 24 \\pmod{7031} = 6771$ ⇒ $НСД(6771, 7031)$ = $1$"
      ],
      "text/plain": [
       "L\"$x_{4}$ − $x_{1} \\pmod n$ = $\\ 6795 - 24 \\pmod{7031} = 6771$ ⇒ $НСД(6771, 7031)$ = $1$\""
      ]
     },
     "metadata": {},
     "output_type": "display_data"
    },
    {
     "data": {
      "text/latex": [
       "$x_{4}$ − $x_{2} \\pmod n$ = $\\ 6795 - 575 \\pmod{7031} = 6220$ ⇒ $НСД(6220, 7031)$ = $1$"
      ],
      "text/plain": [
       "L\"$x_{4}$ − $x_{2} \\pmod n$ = $\\ 6795 - 575 \\pmod{7031} = 6220$ ⇒ $НСД(6220, 7031)$ = $1$\""
      ]
     },
     "metadata": {},
     "output_type": "display_data"
    },
    {
     "data": {
      "text/latex": [
       "$x_{4}$ − $x_{3} \\pmod n$ = $\\ 6795 - 167 \\pmod{7031} = 6628$ ⇒ $НСД(6628, 7031)$ = $1$"
      ],
      "text/plain": [
       "L\"$x_{4}$ − $x_{3} \\pmod n$ = $\\ 6795 - 167 \\pmod{7031} = 6628$ ⇒ $НСД(6628, 7031)$ = $1$\""
      ]
     },
     "metadata": {},
     "output_type": "display_data"
    },
    {
     "data": {
      "text/latex": [
       "$x_{5}$ = $f(x_{4}) \\pmod n$ = $\\ -1 + x^{2} \\pmod{n} = \\ -1 + 6795^{2} \\pmod{7031} = 6478$"
      ],
      "text/plain": [
       "L\"$x_{5}$ = $f(x_{4}) \\pmod n$ = $\\ -1 + x^{2} \\pmod{n} = \\ -1 + 6795^{2} \\pmod{7031} = 6478$\""
      ]
     },
     "metadata": {},
     "output_type": "display_data"
    },
    {
     "data": {
      "text/latex": [
       "$x_{5}$ − $x_{1} \\pmod n$ = $\\ 6478 - 24 \\pmod{7031} = 6454$ ⇒ $НСД(6454, 7031)$ = $1$"
      ],
      "text/plain": [
       "L\"$x_{5}$ − $x_{1} \\pmod n$ = $\\ 6478 - 24 \\pmod{7031} = 6454$ ⇒ $НСД(6454, 7031)$ = $1$\""
      ]
     },
     "metadata": {},
     "output_type": "display_data"
    },
    {
     "data": {
      "text/latex": [
       "$x_{5}$ − $x_{2} \\pmod n$ = $\\ 6478 - 575 \\pmod{7031} = 5903$ ⇒ $НСД(5903, 7031)$ = $1$"
      ],
      "text/plain": [
       "L\"$x_{5}$ − $x_{2} \\pmod n$ = $\\ 6478 - 575 \\pmod{7031} = 5903$ ⇒ $НСД(5903, 7031)$ = $1$\""
      ]
     },
     "metadata": {},
     "output_type": "display_data"
    },
    {
     "data": {
      "text/latex": [
       "$x_{5}$ − $x_{3} \\pmod n$ = $\\ 6478 - 167 \\pmod{7031} = 6311$ ⇒ $НСД(6311, 7031)$ = $1$"
      ],
      "text/plain": [
       "L\"$x_{5}$ − $x_{3} \\pmod n$ = $\\ 6478 - 167 \\pmod{7031} = 6311$ ⇒ $НСД(6311, 7031)$ = $1$\""
      ]
     },
     "metadata": {},
     "output_type": "display_data"
    },
    {
     "data": {
      "text/latex": [
       "$x_{5}$ − $x_{4} \\pmod n$ = $\\ 6478 - 6795 \\pmod{7031} = 6714$ ⇒ $НСД(6714, 7031)$ = $1$"
      ],
      "text/plain": [
       "L\"$x_{5}$ − $x_{4} \\pmod n$ = $\\ 6478 - 6795 \\pmod{7031} = 6714$ ⇒ $НСД(6714, 7031)$ = $1$\""
      ]
     },
     "metadata": {},
     "output_type": "display_data"
    },
    {
     "data": {
      "text/latex": [
       "$x_{6}$ = $f(x_{5}) \\pmod n$ = $\\ -1 + x^{2} \\pmod{n} = \\ -1 + 6478^{2} \\pmod{7031} = 3475$"
      ],
      "text/plain": [
       "L\"$x_{6}$ = $f(x_{5}) \\pmod n$ = $\\ -1 + x^{2} \\pmod{n} = \\ -1 + 6478^{2} \\pmod{7031} = 3475$\""
      ]
     },
     "metadata": {},
     "output_type": "display_data"
    },
    {
     "data": {
      "text/latex": [
       "$x_{6}$ − $x_{1} \\pmod n$ = $\\ 3475 - 24 \\pmod{7031} = 3451$ ⇒ $НСД(3451, 7031)$ = $1$"
      ],
      "text/plain": [
       "L\"$x_{6}$ − $x_{1} \\pmod n$ = $\\ 3475 - 24 \\pmod{7031} = 3451$ ⇒ $НСД(3451, 7031)$ = $1$\""
      ]
     },
     "metadata": {},
     "output_type": "display_data"
    },
    {
     "data": {
      "text/latex": [
       "$x_{6}$ − $x_{2} \\pmod n$ = $\\ 3475 - 575 \\pmod{7031} = 2900$ ⇒ $НСД(2900, 7031)$ = $1$"
      ],
      "text/plain": [
       "L\"$x_{6}$ − $x_{2} \\pmod n$ = $\\ 3475 - 575 \\pmod{7031} = 2900$ ⇒ $НСД(2900, 7031)$ = $1$\""
      ]
     },
     "metadata": {},
     "output_type": "display_data"
    },
    {
     "data": {
      "text/latex": [
       "$x_{6}$ − $x_{3} \\pmod n$ = $\\ 3475 - 167 \\pmod{7031} = 3308$ ⇒ $НСД(3308, 7031)$ = $1$"
      ],
      "text/plain": [
       "L\"$x_{6}$ − $x_{3} \\pmod n$ = $\\ 3475 - 167 \\pmod{7031} = 3308$ ⇒ $НСД(3308, 7031)$ = $1$\""
      ]
     },
     "metadata": {},
     "output_type": "display_data"
    },
    {
     "data": {
      "text/latex": [
       "$x_{6}$ − $x_{4} \\pmod n$ = $\\ 3475 - 6795 \\pmod{7031} = 3711$ ⇒ $НСД(3711, 7031)$ = $1$"
      ],
      "text/plain": [
       "L\"$x_{6}$ − $x_{4} \\pmod n$ = $\\ 3475 - 6795 \\pmod{7031} = 3711$ ⇒ $НСД(3711, 7031)$ = $1$\""
      ]
     },
     "metadata": {},
     "output_type": "display_data"
    },
    {
     "data": {
      "text/latex": [
       "$x_{6}$ − $x_{5} \\pmod n$ = $\\ 3475 - 6478 \\pmod{7031} = 4028$ ⇒ $НСД(4028, 7031)$ = $1$"
      ],
      "text/plain": [
       "L\"$x_{6}$ − $x_{5} \\pmod n$ = $\\ 3475 - 6478 \\pmod{7031} = 4028$ ⇒ $НСД(4028, 7031)$ = $1$\""
      ]
     },
     "metadata": {},
     "output_type": "display_data"
    },
    {
     "data": {
      "text/latex": [
       "$x_{7}$ = $f(x_{6}) \\pmod n$ = $\\ -1 + x^{2} \\pmod{n} = \\ -1 + 3475^{2} \\pmod{7031} = 3397$"
      ],
      "text/plain": [
       "L\"$x_{7}$ = $f(x_{6}) \\pmod n$ = $\\ -1 + x^{2} \\pmod{n} = \\ -1 + 3475^{2} \\pmod{7031} = 3397$\""
      ]
     },
     "metadata": {},
     "output_type": "display_data"
    },
    {
     "data": {
      "text/latex": [
       "$x_{7}$ − $x_{1} \\pmod n$ = $\\ 3397 - 24 \\pmod{7031} = 3373$ ⇒ $НСД(3373, 7031)$ = $1$"
      ],
      "text/plain": [
       "L\"$x_{7}$ − $x_{1} \\pmod n$ = $\\ 3397 - 24 \\pmod{7031} = 3373$ ⇒ $НСД(3373, 7031)$ = $1$\""
      ]
     },
     "metadata": {},
     "output_type": "display_data"
    },
    {
     "data": {
      "text/latex": [
       "$x_{7}$ − $x_{2} \\pmod n$ = $\\ 3397 - 575 \\pmod{7031} = 2822$ ⇒ $НСД(2822, 7031)$ = $1$"
      ],
      "text/plain": [
       "L\"$x_{7}$ − $x_{2} \\pmod n$ = $\\ 3397 - 575 \\pmod{7031} = 2822$ ⇒ $НСД(2822, 7031)$ = $1$\""
      ]
     },
     "metadata": {},
     "output_type": "display_data"
    },
    {
     "data": {
      "text/latex": [
       "$x_{7}$ − $x_{3} \\pmod n$ = $\\ 3397 - 167 \\pmod{7031} = 3230$ ⇒ $НСД(3230, 7031)$ = $1$"
      ],
      "text/plain": [
       "L\"$x_{7}$ − $x_{3} \\pmod n$ = $\\ 3397 - 167 \\pmod{7031} = 3230$ ⇒ $НСД(3230, 7031)$ = $1$\""
      ]
     },
     "metadata": {},
     "output_type": "display_data"
    },
    {
     "data": {
      "text/latex": [
       "$x_{7}$ − $x_{4} \\pmod n$ = $\\ 3397 - 6795 \\pmod{7031} = 3633$ ⇒ $НСД(3633, 7031)$ = $1$"
      ],
      "text/plain": [
       "L\"$x_{7}$ − $x_{4} \\pmod n$ = $\\ 3397 - 6795 \\pmod{7031} = 3633$ ⇒ $НСД(3633, 7031)$ = $1$\""
      ]
     },
     "metadata": {},
     "output_type": "display_data"
    },
    {
     "data": {
      "text/latex": [
       "$x_{7}$ − $x_{5} \\pmod n$ = $\\ 3397 - 6478 \\pmod{7031} = 3950$ ⇒ $НСД(3950, 7031)$ = $79$"
      ],
      "text/plain": [
       "L\"$x_{7}$ − $x_{5} \\pmod n$ = $\\ 3397 - 6478 \\pmod{7031} = 3950$ ⇒ $НСД(3950, 7031)$ = $79$\""
      ]
     },
     "metadata": {},
     "output_type": "display_data"
    },
    {
     "data": {
      "text/latex": [
       "$p = 79$"
      ],
      "text/plain": [
       "L\"$p = 79$\""
      ]
     },
     "metadata": {},
     "output_type": "display_data"
    }
   ],
   "source": [
    "function pollard_rho_classic(n, seed=2, f=x -> x^2 + 1)\n",
    "    @variables x\n",
    "\n",
    "    display(L\"n = %$n\")\n",
    "    # display function\n",
    "    display(@latexdefine f(x))\n",
    "    # display seed\n",
    "    display(@latexrun x₀ = $seed)\n",
    "\n",
    "    x_tmp = x₀\n",
    "    countx_tmp = 1\n",
    "    # display(L\" $x_0$ = %$seed\")\n",
    "    # x = seed\n",
    "    prev = []\n",
    "    while true\n",
    "\n",
    "        # display x_1\n",
    "        f_expr_tmp = Symbolics._toexpr(f(x))\n",
    "        f_expr_filled = rep!(copy(f_expr_tmp), Dict(:x => x_tmp))\n",
    "        display(L\"$x_{%$countx_tmp}$ = $f(x_{%$(countx_tmp-1)}) \\pmod n$ = %$(@latexify $f_expr_tmp % n = $f_expr_filled % $n = $(f(x_tmp) % n))\")\n",
    "\n",
    "        x_tmp = f(x_tmp) % n\n",
    "        for (i, v) in enumerate(prev)\n",
    "            d = gcd((x_tmp - v) % n, n)\n",
    "\n",
    "            display(L\"$x_{%$countx_tmp}$ − $x_{%$i} \\pmod n$ = %$(@latexify ($x_tmp - $v) % $n = $(mod(x_tmp - v,n))) ⇒ $НСД(%$(mod(x_tmp - v,n)), %$n)$ = $%$d$\")\n",
    "\n",
    "            if d == n\n",
    "                return nothing\n",
    "            elseif d != 1\n",
    "                display(L\"p = %$d\")\n",
    "                return d\n",
    "            end\n",
    "        end\n",
    "        push!(prev, x_tmp)\n",
    "\n",
    "        countx_tmp += 1\n",
    "    end\n",
    "end\n",
    "\n",
    "\n",
    "# p, q = nextprime.(rand(0:100, 2))\n",
    "# n = p * q\n",
    "# display(\"$p * $q = $n\")\n",
    "display(L\"a)\")\n",
    "pollard_rho_classic(8051, 1, x->x^2 + 1)\n",
    "display(L\"b)\")\n",
    "pollard_rho_classic(7031, 5, x->x^2 - 1)\n",
    "print()"
   ]
  },
  {
   "attachments": {},
   "cell_type": "markdown",
   "metadata": {},
   "source": [
    "Метод Полларда-Флойда"
   ]
  },
  {
   "cell_type": "code",
   "execution_count": 78,
   "metadata": {},
   "outputs": [
    {
     "data": {
      "text/latex": [
       "$a)$"
      ],
      "text/plain": [
       "L\"$a)$\""
      ]
     },
     "metadata": {},
     "output_type": "display_data"
    },
    {
     "data": {
      "text/latex": [
       "$n = 8051$"
      ],
      "text/plain": [
       "L\"$n = 8051$\""
      ]
     },
     "metadata": {},
     "output_type": "display_data"
    },
    {
     "data": {
      "text/latex": [
       "$f\\left( x \\right) = 1 + x^{2}$"
      ],
      "text/plain": [
       "L\"$f\\left( x \\right) = 1 + x^{2}$\""
      ]
     },
     "metadata": {},
     "output_type": "display_data"
    },
    {
     "data": {
      "text/latex": [
       "$x_0 = 1$"
      ],
      "text/plain": [
       "L\"$x_0 = 1$\""
      ]
     },
     "metadata": {},
     "output_type": "display_data"
    },
    {
     "data": {
      "text/latex": [
       "$x_{1}$ = $f(x_{0}) \\pmod n$ = $\\ 1 + x^{2} \\pmod{n} = \\ 1 + 1^{2} \\pmod{8051} = 2$"
      ],
      "text/plain": [
       "L\"$x_{1}$ = $f(x_{0}) \\pmod n$ = $\\ 1 + x^{2} \\pmod{n} = \\ 1 + 1^{2} \\pmod{8051} = 2$\""
      ]
     },
     "metadata": {},
     "output_type": "display_data"
    },
    {
     "data": {
      "text/latex": [
       "$x_{2}$ = $f(f(x_{0})) \\pmod n$ = $\\ 2 + x^{4} + 2 \\cdot x^{2} \\pmod{n} = \\ 2 + 1^{4} + 2 \\cdot 1^{2} \\pmod{8051} = 2$"
      ],
      "text/plain": [
       "L\"$x_{2}$ = $f(f(x_{0})) \\pmod n$ = $\\ 2 + x^{4} + 2 \\cdot x^{2} \\pmod{n} = \\ 2 + 1^{4} + 2 \\cdot 1^{2} \\pmod{8051} = 2$\""
      ]
     },
     "metadata": {},
     "output_type": "display_data"
    },
    {
     "data": {
      "text/latex": [
       "$x_{1}$ − $x_{2} \\pmod n$ = $\\ 2 - 5 \\pmod{8051} = 8048$ ⇒ $НСД(8048, 8051)$ = $1$"
      ],
      "text/plain": [
       "L\"$x_{1}$ − $x_{2} \\pmod n$ = $\\ 2 - 5 \\pmod{8051} = 8048$ ⇒ $НСД(8048, 8051)$ = $1$\""
      ]
     },
     "metadata": {},
     "output_type": "display_data"
    },
    {
     "data": {
      "text/latex": [
       "$x_{2}$ = $f(x_{1}) \\pmod n$ = $\\ 1 + x^{2} \\pmod{n} = \\ 1 + 2^{2} \\pmod{8051} = 5$"
      ],
      "text/plain": [
       "L\"$x_{2}$ = $f(x_{1}) \\pmod n$ = $\\ 1 + x^{2} \\pmod{n} = \\ 1 + 2^{2} \\pmod{8051} = 5$\""
      ]
     },
     "metadata": {},
     "output_type": "display_data"
    },
    {
     "data": {
      "text/latex": [
       "$x_{4}$ = $f(f(x_{2})) \\pmod n$ = $\\ 2 + x^{4} + 2 \\cdot x^{2} \\pmod{n} = \\ 2 + 5^{4} + 2 \\cdot 5^{2} \\pmod{8051} = 26$"
      ],
      "text/plain": [
       "L\"$x_{4}$ = $f(f(x_{2})) \\pmod n$ = $\\ 2 + x^{4} + 2 \\cdot x^{2} \\pmod{n} = \\ 2 + 5^{4} + 2 \\cdot 5^{2} \\pmod{8051} = 26$\""
      ]
     },
     "metadata": {},
     "output_type": "display_data"
    },
    {
     "data": {
      "text/latex": [
       "$x_{2}$ − $x_{4} \\pmod n$ = $\\ 5 - 677 \\pmod{8051} = 7379$ ⇒ $НСД(7379, 8051)$ = $1$"
      ],
      "text/plain": [
       "L\"$x_{2}$ − $x_{4} \\pmod n$ = $\\ 5 - 677 \\pmod{8051} = 7379$ ⇒ $НСД(7379, 8051)$ = $1$\""
      ]
     },
     "metadata": {},
     "output_type": "display_data"
    },
    {
     "data": {
      "text/latex": [
       "$x_{3}$ = $f(x_{2}) \\pmod n$ = $\\ 1 + x^{2} \\pmod{n} = \\ 1 + 5^{2} \\pmod{8051} = 26$"
      ],
      "text/plain": [
       "L\"$x_{3}$ = $f(x_{2}) \\pmod n$ = $\\ 1 + x^{2} \\pmod{n} = \\ 1 + 5^{2} \\pmod{8051} = 26$\""
      ]
     },
     "metadata": {},
     "output_type": "display_data"
    },
    {
     "data": {
      "text/latex": [
       "$x_{6}$ = $f(f(x_{4})) \\pmod n$ = $\\ 2 + x^{4} + 2 \\cdot x^{2} \\pmod{n} = \\ 2 + 677^{4} + 2 \\cdot 677^{2} \\pmod{8051} = 7474$"
      ],
      "text/plain": [
       "L\"$x_{6}$ = $f(f(x_{4})) \\pmod n$ = $\\ 2 + x^{4} + 2 \\cdot x^{2} \\pmod{n} = \\ 2 + 677^{4} + 2 \\cdot 677^{2} \\pmod{8051} = 7474$\""
      ]
     },
     "metadata": {},
     "output_type": "display_data"
    },
    {
     "data": {
      "text/latex": [
       "$x_{3}$ − $x_{6} \\pmod n$ = $\\ 26 - 2839 \\pmod{8051} = 5238$ ⇒ $НСД(5238, 8051)$ = $97$"
      ],
      "text/plain": [
       "L\"$x_{3}$ − $x_{6} \\pmod n$ = $\\ 26 - 2839 \\pmod{8051} = 5238$ ⇒ $НСД(5238, 8051)$ = $97$\""
      ]
     },
     "metadata": {},
     "output_type": "display_data"
    },
    {
     "data": {
      "text/latex": [
       "$p = 97$"
      ],
      "text/plain": [
       "L\"$p = 97$\""
      ]
     },
     "metadata": {},
     "output_type": "display_data"
    },
    {
     "data": {
      "text/latex": [
       "$b)$"
      ],
      "text/plain": [
       "L\"$b)$\""
      ]
     },
     "metadata": {},
     "output_type": "display_data"
    },
    {
     "data": {
      "text/latex": [
       "$n = 7031$"
      ],
      "text/plain": [
       "L\"$n = 7031$\""
      ]
     },
     "metadata": {},
     "output_type": "display_data"
    },
    {
     "data": {
      "text/latex": [
       "$f\\left( x \\right) = -1 + x^{2}$"
      ],
      "text/plain": [
       "L\"$f\\left( x \\right) = -1 + x^{2}$\""
      ]
     },
     "metadata": {},
     "output_type": "display_data"
    },
    {
     "data": {
      "text/latex": [
       "$x_0 = 5$"
      ],
      "text/plain": [
       "L\"$x_0 = 5$\""
      ]
     },
     "metadata": {},
     "output_type": "display_data"
    },
    {
     "data": {
      "text/latex": [
       "$x_{1}$ = $f(x_{0}) \\pmod n$ = $\\ -1 + x^{2} \\pmod{n} = \\ -1 + 5^{2} \\pmod{7031} = 24$"
      ],
      "text/plain": [
       "L\"$x_{1}$ = $f(x_{0}) \\pmod n$ = $\\ -1 + x^{2} \\pmod{n} = \\ -1 + 5^{2} \\pmod{7031} = 24$\""
      ]
     },
     "metadata": {},
     "output_type": "display_data"
    },
    {
     "data": {
      "text/latex": [
       "$x_{2}$ = $f(f(x_{0})) \\pmod n$ = $\\ x^{4} - 2 \\cdot x^{2} \\pmod{n} = \\ 5^{4} - 2 \\cdot 5^{2} \\pmod{7031} = 24$"
      ],
      "text/plain": [
       "L\"$x_{2}$ = $f(f(x_{0})) \\pmod n$ = $\\ x^{4} - 2 \\cdot x^{2} \\pmod{n} = \\ 5^{4} - 2 \\cdot 5^{2} \\pmod{7031} = 24$\""
      ]
     },
     "metadata": {},
     "output_type": "display_data"
    },
    {
     "data": {
      "text/latex": [
       "$x_{1}$ − $x_{2} \\pmod n$ = $\\ 24 - 575 \\pmod{7031} = 6480$ ⇒ $НСД(6480, 7031)$ = $1$"
      ],
      "text/plain": [
       "L\"$x_{1}$ − $x_{2} \\pmod n$ = $\\ 24 - 575 \\pmod{7031} = 6480$ ⇒ $НСД(6480, 7031)$ = $1$\""
      ]
     },
     "metadata": {},
     "output_type": "display_data"
    },
    {
     "data": {
      "text/latex": [
       "$x_{2}$ = $f(x_{1}) \\pmod n$ = $\\ -1 + x^{2} \\pmod{n} = \\ -1 + 24^{2} \\pmod{7031} = 575$"
      ],
      "text/plain": [
       "L\"$x_{2}$ = $f(x_{1}) \\pmod n$ = $\\ -1 + x^{2} \\pmod{n} = \\ -1 + 24^{2} \\pmod{7031} = 575$\""
      ]
     },
     "metadata": {},
     "output_type": "display_data"
    },
    {
     "data": {
      "text/latex": [
       "$x_{4}$ = $f(f(x_{2})) \\pmod n$ = $\\ x^{4} - 2 \\cdot x^{2} \\pmod{n} = \\ 575^{4} - 2 \\cdot 575^{2} \\pmod{7031} = 167$"
      ],
      "text/plain": [
       "L\"$x_{4}$ = $f(f(x_{2})) \\pmod n$ = $\\ x^{4} - 2 \\cdot x^{2} \\pmod{n} = \\ 575^{4} - 2 \\cdot 575^{2} \\pmod{7031} = 167$\""
      ]
     },
     "metadata": {},
     "output_type": "display_data"
    },
    {
     "data": {
      "text/latex": [
       "$x_{2}$ − $x_{4} \\pmod n$ = $\\ 575 - 6795 \\pmod{7031} = 811$ ⇒ $НСД(811, 7031)$ = $1$"
      ],
      "text/plain": [
       "L\"$x_{2}$ − $x_{4} \\pmod n$ = $\\ 575 - 6795 \\pmod{7031} = 811$ ⇒ $НСД(811, 7031)$ = $1$\""
      ]
     },
     "metadata": {},
     "output_type": "display_data"
    },
    {
     "data": {
      "text/latex": [
       "$x_{3}$ = $f(x_{2}) \\pmod n$ = $\\ -1 + x^{2} \\pmod{n} = \\ -1 + 575^{2} \\pmod{7031} = 167$"
      ],
      "text/plain": [
       "L\"$x_{3}$ = $f(x_{2}) \\pmod n$ = $\\ -1 + x^{2} \\pmod{n} = \\ -1 + 575^{2} \\pmod{7031} = 167$\""
      ]
     },
     "metadata": {},
     "output_type": "display_data"
    },
    {
     "data": {
      "text/latex": [
       "$x_{6}$ = $f(f(x_{4})) \\pmod n$ = $\\ x^{4} - 2 \\cdot x^{2} \\pmod{n} = \\ 6795^{4} - 2 \\cdot 6795^{2} \\pmod{7031} = 6478$"
      ],
      "text/plain": [
       "L\"$x_{6}$ = $f(f(x_{4})) \\pmod n$ = $\\ x^{4} - 2 \\cdot x^{2} \\pmod{n} = \\ 6795^{4} - 2 \\cdot 6795^{2} \\pmod{7031} = 6478$\""
      ]
     },
     "metadata": {},
     "output_type": "display_data"
    },
    {
     "data": {
      "text/latex": [
       "$x_{3}$ − $x_{6} \\pmod n$ = $\\ 167 - 3475 \\pmod{7031} = 3723$ ⇒ $НСД(3723, 7031)$ = $1$"
      ],
      "text/plain": [
       "L\"$x_{3}$ − $x_{6} \\pmod n$ = $\\ 167 - 3475 \\pmod{7031} = 3723$ ⇒ $НСД(3723, 7031)$ = $1$\""
      ]
     },
     "metadata": {},
     "output_type": "display_data"
    },
    {
     "data": {
      "text/latex": [
       "$x_{4}$ = $f(x_{3}) \\pmod n$ = $\\ -1 + x^{2} \\pmod{n} = \\ -1 + 167^{2} \\pmod{7031} = 6795$"
      ],
      "text/plain": [
       "L\"$x_{4}$ = $f(x_{3}) \\pmod n$ = $\\ -1 + x^{2} \\pmod{n} = \\ -1 + 167^{2} \\pmod{7031} = 6795$\""
      ]
     },
     "metadata": {},
     "output_type": "display_data"
    },
    {
     "data": {
      "text/latex": [
       "$x_{8}$ = $f(f(x_{6})) \\pmod n$ = $\\ x^{4} - 2 \\cdot x^{2} \\pmod{n} = \\ 3475^{4} - 2 \\cdot 3475^{2} \\pmod{7031} = 3397$"
      ],
      "text/plain": [
       "L\"$x_{8}$ = $f(f(x_{6})) \\pmod n$ = $\\ x^{4} - 2 \\cdot x^{2} \\pmod{n} = \\ 3475^{4} - 2 \\cdot 3475^{2} \\pmod{7031} = 3397$\""
      ]
     },
     "metadata": {},
     "output_type": "display_data"
    },
    {
     "data": {
      "text/latex": [
       "$x_{4}$ − $x_{8} \\pmod n$ = $\\ 6795 - 1737 \\pmod{7031} = 5058$ ⇒ $НСД(5058, 7031)$ = $1$"
      ],
      "text/plain": [
       "L\"$x_{4}$ − $x_{8} \\pmod n$ = $\\ 6795 - 1737 \\pmod{7031} = 5058$ ⇒ $НСД(5058, 7031)$ = $1$\""
      ]
     },
     "metadata": {},
     "output_type": "display_data"
    },
    {
     "data": {
      "text/latex": [
       "$x_{5}$ = $f(x_{4}) \\pmod n$ = $\\ -1 + x^{2} \\pmod{n} = \\ -1 + 6795^{2} \\pmod{7031} = 6478$"
      ],
      "text/plain": [
       "L\"$x_{5}$ = $f(x_{4}) \\pmod n$ = $\\ -1 + x^{2} \\pmod{n} = \\ -1 + 6795^{2} \\pmod{7031} = 6478$\""
      ]
     },
     "metadata": {},
     "output_type": "display_data"
    },
    {
     "data": {
      "text/latex": [
       "$x_{10}$ = $f(f(x_{8})) \\pmod n$ = $\\ x^{4} - 2 \\cdot x^{2} \\pmod{n} = \\ 1737^{4} - 2 \\cdot 1737^{2} \\pmod{7031} = 869$"
      ],
      "text/plain": [
       "L\"$x_{10}$ = $f(f(x_{8})) \\pmod n$ = $\\ x^{4} - 2 \\cdot x^{2} \\pmod{n} = \\ 1737^{4} - 2 \\cdot 1737^{2} \\pmod{7031} = 869$\""
      ]
     },
     "metadata": {},
     "output_type": "display_data"
    },
    {
     "data": {
      "text/latex": [
       "$x_{5}$ − $x_{10} \\pmod n$ = $\\ 6478 - 2843 \\pmod{7031} = 3635$ ⇒ $НСД(3635, 7031)$ = $1$"
      ],
      "text/plain": [
       "L\"$x_{5}$ − $x_{10} \\pmod n$ = $\\ 6478 - 2843 \\pmod{7031} = 3635$ ⇒ $НСД(3635, 7031)$ = $1$\""
      ]
     },
     "metadata": {},
     "output_type": "display_data"
    },
    {
     "data": {
      "text/latex": [
       "$x_{6}$ = $f(x_{5}) \\pmod n$ = $\\ -1 + x^{2} \\pmod{n} = \\ -1 + 6478^{2} \\pmod{7031} = 3475$"
      ],
      "text/plain": [
       "L\"$x_{6}$ = $f(x_{5}) \\pmod n$ = $\\ -1 + x^{2} \\pmod{n} = \\ -1 + 6478^{2} \\pmod{7031} = 3475$\""
      ]
     },
     "metadata": {},
     "output_type": "display_data"
    },
    {
     "data": {
      "text/latex": [
       "$x_{12}$ = $f(f(x_{10})) \\pmod n$ = $\\ x^{4} - 2 \\cdot x^{2} \\pmod{n} = \\ 2843^{4} - 2 \\cdot 2843^{2} \\pmod{7031} = 4029$"
      ],
      "text/plain": [
       "L\"$x_{12}$ = $f(f(x_{10})) \\pmod n$ = $\\ x^{4} - 2 \\cdot x^{2} \\pmod{n} = \\ 2843^{4} - 2 \\cdot 2843^{2} \\pmod{7031} = 4029$\""
      ]
     },
     "metadata": {},
     "output_type": "display_data"
    },
    {
     "data": {
      "text/latex": [
       "$x_{6}$ − $x_{12} \\pmod n$ = $\\ 3475 - 5292 \\pmod{7031} = 5214$ ⇒ $НСД(5214, 7031)$ = $79$"
      ],
      "text/plain": [
       "L\"$x_{6}$ − $x_{12} \\pmod n$ = $\\ 3475 - 5292 \\pmod{7031} = 5214$ ⇒ $НСД(5214, 7031)$ = $79$\""
      ]
     },
     "metadata": {},
     "output_type": "display_data"
    },
    {
     "data": {
      "text/latex": [
       "$p = 79$"
      ],
      "text/plain": [
       "L\"$p = 79$\""
      ]
     },
     "metadata": {},
     "output_type": "display_data"
    }
   ],
   "source": [
    "function pollard_rho_floyd(n, seed=2, f=x -> x^2 + 1)\n",
    "    @variables x\n",
    "\n",
    "    display(L\"n = %$n\")\n",
    "    # display function\n",
    "    display(@latexdefine f(x))\n",
    "    # display seed\n",
    "    display(@latexrun x₀ = $seed)\n",
    "\n",
    "    x_tmp = x₀\n",
    "    y_tmp = x₀\n",
    "    countx_tmp = 1\n",
    "    county_tmp = 2\n",
    "    d = 1\n",
    "    while d == 1\n",
    "        # display x_1\n",
    "        f_expr_tmp = Symbolics._toexpr(f(x))\n",
    "        f_expr_filled = rep!(copy(f_expr_tmp), Dict(:x => x_tmp))\n",
    "        display(L\"$x_{%$countx_tmp}$ = $f(x_{%$(countx_tmp-1)}) \\pmod n$ = %$(@latexify $f_expr_tmp % n = $f_expr_filled % $n = $(f(x_tmp) % n))\")\n",
    "\n",
    "        # display x_2\n",
    "        f_expr_tmp = Symbolics._toexpr(expand(f(f(x))))\n",
    "        f_expr_filled = rep!(copy(f_expr_tmp), Dict(:x => y_tmp))\n",
    "        display(L\"$x_{%$county_tmp}$ = $f(f(x_{%$(county_tmp-2)})) \\pmod n$ = %$(@latexify $f_expr_tmp % n = $f_expr_filled % $n = $(f(y_tmp) % n))\")\n",
    "\n",
    "\n",
    "        x_tmp = f(x_tmp) % n\n",
    "        y_tmp = f(f(y_tmp)) % n\n",
    "        d = gcd((x_tmp - y_tmp) % n, n)\n",
    "\n",
    "        display(L\"$x_{%$countx_tmp}$ − $x_{%$county_tmp} \\pmod n$ = %$(@latexify ($x_tmp - $y_tmp) % $n = $(mod(x_tmp - y_tmp,n))) ⇒ $НСД(%$(mod(x_tmp - y_tmp,n)), %$n)$ = $%$d$\")\n",
    "\n",
    "        countx_tmp += 1\n",
    "        county_tmp += 2\n",
    "    end\n",
    "    if d == n\n",
    "        return nothing\n",
    "    end\n",
    "\n",
    "    display(L\"p = %$d\")\n",
    "    d\n",
    "end\n",
    "\n",
    "\n",
    "# p, q = nextprime.(rand(0:50, 2))\n",
    "# n = p * q\n",
    "# display(\"$p * $q = $n\")\n",
    "# display(pollard_rho_floyd(n))\n",
    "display(L\"a)\")\n",
    "pollard_rho_floyd(8051, 1, x->x^2 + 1)\n",
    "display(L\"b)\")\n",
    "pollard_rho_floyd(7031, 5, x->x^2 - 1)\n",
    "print()"
   ]
  },
  {
   "cell_type": "code",
   "execution_count": 79,
   "metadata": {},
   "outputs": [],
   "source": [
    "\n",
    "# def pollard_rho_brent(n, seed=2, f=lambda x: x**2 + 1):\n",
    "    # # https://mathworld.wolfram.com/BrentsFactorizationMethod.html -- the most layman explanation i found\n",
    "    # m = 1000\n",
    "    # y = seed\n",
    "    # r, q, d = 1, 1, 1\n",
    "    # while d == 1:\n",
    "        # x = y\n",
    "        # for i in range(r):\n",
    "            # y = f(y) % n\n",
    "\n",
    "        # k = 0\n",
    "        # while k < r and d == 1:\n",
    "            # ys = y\n",
    "            # for i in range(min(m, r - k)):\n",
    "                # y = f(y) % n\n",
    "                # q *= (x - y) % n\n",
    "            # d = math.gcd(q, n)\n",
    "            # k += m\n",
    "        # r *= 2\n",
    "    # print(d)\n",
    "    # if d == n:\n",
    "        # while True:\n",
    "            # ys = f(ys) % n\n",
    "            # d = math.gcd(x - ys, n)\n",
    "            # if d > 1:\n",
    "                # break\n",
    "    # if d != n:\n",
    "        # return d\n",
    "\n",
    "function pollard_rho_brent(n, seed=2, f=x -> x^2 + 1)\n",
    "\n",
    "    m = 1000\n",
    "    y = seed\n",
    "    x = nothing\n",
    "    ys = nothing\n",
    "    r, q, d = 1, 1, 1\n",
    "    while d == 1\n",
    "        x = y\n",
    "        for i in 0:r\n",
    "            y = f(y) % n\n",
    "        end\n",
    "\n",
    "        k = 0\n",
    "        while k < r && d == 1\n",
    "            ys = y\n",
    "            for i in 0:min(m, r - k)\n",
    "                y = f(y) % n\n",
    "                q *= (x - y) % n\n",
    "            end\n",
    "            d = gcd(q, n)\n",
    "            k += m\n",
    "        end\n",
    "        r *= 2\n",
    "    end\n",
    "    if d == n\n",
    "        while true\n",
    "            ys = f(ys) % n\n",
    "            d = gcd(x - ys, n)\n",
    "            if d > 1\n",
    "                break\n",
    "            end\n",
    "        end\n",
    "    end\n",
    "    d\n",
    "end\n",
    "\n",
    "pollard_rho_brent(7031, 5, x -> x^2 - 1)\n",
    "print()"
   ]
  },
  {
   "attachments": {},
   "cell_type": "markdown",
   "metadata": {},
   "source": [
    "2)\n",
    "Не бажано використовувати такі функції:\n",
    "\n",
    "$$ x^2 \\ при \\ x_0 = 0 $$\n",
    "$$ x^2-2 \\ при \\ x_0 = 2 $$\n",
    "$$ x^2-6 \\ при \\ x_0 = 3 $$\n",
    "$$ x^2-12 \\ при \\ x_0 = 4 $$\n",
    "\n",
    "і так далі ... \n",
    "\n",
    "Крайні випадки: якщо колізія по d дорівнює колізії по n, число має цілий корінь."
   ]
  },
  {
   "attachments": {},
   "cell_type": "markdown",
   "metadata": {},
   "source": [
    "3)\n",
    "\n",
    "Метод Ферма"
   ]
  },
  {
   "cell_type": "code",
   "execution_count": 81,
   "metadata": {},
   "outputs": [
    {
     "data": {
      "text/latex": [
       "$n = pq = 200819$"
      ],
      "text/plain": [
       "L\"$n = pq = 200819$\""
      ]
     },
     "metadata": {},
     "output_type": "display_data"
    },
    {
     "data": {
      "text/latex": [
       "$pq = a^2 - b^2$"
      ],
      "text/plain": [
       "L\"$pq = a^2 - b^2$\""
      ]
     },
     "metadata": {},
     "output_type": "display_data"
    },
    {
     "data": {
      "text/latex": [
       "$0$ = $(a ^ 2 - b ^ 2) - n$"
      ],
      "text/plain": [
       "L\"$0$ = $(a ^ 2 - b ^ 2) - n$\""
      ]
     },
     "metadata": {},
     "output_type": "display_data"
    },
    {
     "data": {
      "text/latex": [
       "$a = \\sqrt{n} = 448.1283298342117 = 448$"
      ],
      "text/plain": [
       "L\"$a = \\sqrt{n} = 448.1283298342117 = 448$\""
      ]
     },
     "metadata": {},
     "output_type": "display_data"
    },
    {
     "data": {
      "text/latex": [
       "$(448,0) ⇒ (a ^ 2 - b ^ 2) - n = (448 ^ 2 - 0 ^ 2) - 200819 = -115$"
      ],
      "text/plain": [
       "L\"$(448,0) ⇒ (a ^ 2 - b ^ 2) - n = (448 ^ 2 - 0 ^ 2) - 200819 = -115$\""
      ]
     },
     "metadata": {},
     "output_type": "display_data"
    },
    {
     "data": {
      "text/latex": [
       "$a = a + 1$"
      ],
      "text/plain": [
       "L\"$a = a + 1$\""
      ]
     },
     "metadata": {},
     "output_type": "display_data"
    },
    {
     "data": {
      "text/latex": [
       "$(449,0) ⇒ (a ^ 2 - b ^ 2) - n = (449 ^ 2 - 0 ^ 2) - 200819 = 782$"
      ],
      "text/plain": [
       "L\"$(449,0) ⇒ (a ^ 2 - b ^ 2) - n = (449 ^ 2 - 0 ^ 2) - 200819 = 782$\""
      ]
     },
     "metadata": {},
     "output_type": "display_data"
    },
    {
     "data": {
      "text/latex": [
       "$b = b + 1$"
      ],
      "text/plain": [
       "L\"$b = b + 1$\""
      ]
     },
     "metadata": {},
     "output_type": "display_data"
    },
    {
     "data": {
      "text/latex": [
       "$(449,1) ⇒ (a ^ 2 - b ^ 2) - n = (449 ^ 2 - 1 ^ 2) - 200819 = 781$"
      ],
      "text/plain": [
       "L\"$(449,1) ⇒ (a ^ 2 - b ^ 2) - n = (449 ^ 2 - 1 ^ 2) - 200819 = 781$\""
      ]
     },
     "metadata": {},
     "output_type": "display_data"
    },
    {
     "data": {
      "text/latex": [
       "$b = b + 1$"
      ],
      "text/plain": [
       "L\"$b = b + 1$\""
      ]
     },
     "metadata": {},
     "output_type": "display_data"
    },
    {
     "data": {
      "text/latex": [
       "$(449,2) ⇒ (a ^ 2 - b ^ 2) - n = (449 ^ 2 - 2 ^ 2) - 200819 = 778$"
      ],
      "text/plain": [
       "L\"$(449,2) ⇒ (a ^ 2 - b ^ 2) - n = (449 ^ 2 - 2 ^ 2) - 200819 = 778$\""
      ]
     },
     "metadata": {},
     "output_type": "display_data"
    },
    {
     "data": {
      "text/latex": [
       "$b = b + 1$"
      ],
      "text/plain": [
       "L\"$b = b + 1$\""
      ]
     },
     "metadata": {},
     "output_type": "display_data"
    },
    {
     "data": {
      "text/latex": [
       "$(449,3) ⇒ (a ^ 2 - b ^ 2) - n = (449 ^ 2 - 3 ^ 2) - 200819 = 773$"
      ],
      "text/plain": [
       "L\"$(449,3) ⇒ (a ^ 2 - b ^ 2) - n = (449 ^ 2 - 3 ^ 2) - 200819 = 773$\""
      ]
     },
     "metadata": {},
     "output_type": "display_data"
    },
    {
     "data": {
      "text/latex": [
       "$b = b + 1$"
      ],
      "text/plain": [
       "L\"$b = b + 1$\""
      ]
     },
     "metadata": {},
     "output_type": "display_data"
    },
    {
     "data": {
      "text/latex": [
       "$(449,4) ⇒ (a ^ 2 - b ^ 2) - n = (449 ^ 2 - 4 ^ 2) - 200819 = 766$"
      ],
      "text/plain": [
       "L\"$(449,4) ⇒ (a ^ 2 - b ^ 2) - n = (449 ^ 2 - 4 ^ 2) - 200819 = 766$\""
      ]
     },
     "metadata": {},
     "output_type": "display_data"
    },
    {
     "data": {
      "text/latex": [
       "$b = b + 1$"
      ],
      "text/plain": [
       "L\"$b = b + 1$\""
      ]
     },
     "metadata": {},
     "output_type": "display_data"
    },
    {
     "data": {
      "text/latex": [
       "$(449,5) ⇒ (a ^ 2 - b ^ 2) - n = (449 ^ 2 - 5 ^ 2) - 200819 = 757$"
      ],
      "text/plain": [
       "L\"$(449,5) ⇒ (a ^ 2 - b ^ 2) - n = (449 ^ 2 - 5 ^ 2) - 200819 = 757$\""
      ]
     },
     "metadata": {},
     "output_type": "display_data"
    },
    {
     "data": {
      "text/latex": [
       "$b = b + 1$"
      ],
      "text/plain": [
       "L\"$b = b + 1$\""
      ]
     },
     "metadata": {},
     "output_type": "display_data"
    },
    {
     "data": {
      "text/latex": [
       "$(449,6) ⇒ (a ^ 2 - b ^ 2) - n = (449 ^ 2 - 6 ^ 2) - 200819 = 746$"
      ],
      "text/plain": [
       "L\"$(449,6) ⇒ (a ^ 2 - b ^ 2) - n = (449 ^ 2 - 6 ^ 2) - 200819 = 746$\""
      ]
     },
     "metadata": {},
     "output_type": "display_data"
    },
    {
     "data": {
      "text/latex": [
       "$b = b + 1$"
      ],
      "text/plain": [
       "L\"$b = b + 1$\""
      ]
     },
     "metadata": {},
     "output_type": "display_data"
    },
    {
     "data": {
      "text/latex": [
       "$(449,7) ⇒ (a ^ 2 - b ^ 2) - n = (449 ^ 2 - 7 ^ 2) - 200819 = 733$"
      ],
      "text/plain": [
       "L\"$(449,7) ⇒ (a ^ 2 - b ^ 2) - n = (449 ^ 2 - 7 ^ 2) - 200819 = 733$\""
      ]
     },
     "metadata": {},
     "output_type": "display_data"
    },
    {
     "data": {
      "text/latex": [
       "$b = b + 1$"
      ],
      "text/plain": [
       "L\"$b = b + 1$\""
      ]
     },
     "metadata": {},
     "output_type": "display_data"
    },
    {
     "data": {
      "text/latex": [
       "$(449,8) ⇒ (a ^ 2 - b ^ 2) - n = (449 ^ 2 - 8 ^ 2) - 200819 = 718$"
      ],
      "text/plain": [
       "L\"$(449,8) ⇒ (a ^ 2 - b ^ 2) - n = (449 ^ 2 - 8 ^ 2) - 200819 = 718$\""
      ]
     },
     "metadata": {},
     "output_type": "display_data"
    },
    {
     "data": {
      "text/latex": [
       "$b = b + 1$"
      ],
      "text/plain": [
       "L\"$b = b + 1$\""
      ]
     },
     "metadata": {},
     "output_type": "display_data"
    },
    {
     "data": {
      "text/latex": [
       "$(449,9) ⇒ (a ^ 2 - b ^ 2) - n = (449 ^ 2 - 9 ^ 2) - 200819 = 701$"
      ],
      "text/plain": [
       "L\"$(449,9) ⇒ (a ^ 2 - b ^ 2) - n = (449 ^ 2 - 9 ^ 2) - 200819 = 701$\""
      ]
     },
     "metadata": {},
     "output_type": "display_data"
    },
    {
     "data": {
      "text/latex": [
       "$b = b + 1$"
      ],
      "text/plain": [
       "L\"$b = b + 1$\""
      ]
     },
     "metadata": {},
     "output_type": "display_data"
    },
    {
     "data": {
      "text/latex": [
       "$(449,10) ⇒ (a ^ 2 - b ^ 2) - n = (449 ^ 2 - 10 ^ 2) - 200819 = 682$"
      ],
      "text/plain": [
       "L\"$(449,10) ⇒ (a ^ 2 - b ^ 2) - n = (449 ^ 2 - 10 ^ 2) - 200819 = 682$\""
      ]
     },
     "metadata": {},
     "output_type": "display_data"
    },
    {
     "data": {
      "text/latex": [
       "$b = b + 1$"
      ],
      "text/plain": [
       "L\"$b = b + 1$\""
      ]
     },
     "metadata": {},
     "output_type": "display_data"
    },
    {
     "data": {
      "text/latex": [
       "$(449,11) ⇒ (a ^ 2 - b ^ 2) - n = (449 ^ 2 - 11 ^ 2) - 200819 = 661$"
      ],
      "text/plain": [
       "L\"$(449,11) ⇒ (a ^ 2 - b ^ 2) - n = (449 ^ 2 - 11 ^ 2) - 200819 = 661$\""
      ]
     },
     "metadata": {},
     "output_type": "display_data"
    },
    {
     "data": {
      "text/latex": [
       "$b = b + 1$"
      ],
      "text/plain": [
       "L\"$b = b + 1$\""
      ]
     },
     "metadata": {},
     "output_type": "display_data"
    },
    {
     "data": {
      "text/latex": [
       "$(449,12) ⇒ (a ^ 2 - b ^ 2) - n = (449 ^ 2 - 12 ^ 2) - 200819 = 638$"
      ],
      "text/plain": [
       "L\"$(449,12) ⇒ (a ^ 2 - b ^ 2) - n = (449 ^ 2 - 12 ^ 2) - 200819 = 638$\""
      ]
     },
     "metadata": {},
     "output_type": "display_data"
    },
    {
     "data": {
      "text/latex": [
       "$b = b + 1$"
      ],
      "text/plain": [
       "L\"$b = b + 1$\""
      ]
     },
     "metadata": {},
     "output_type": "display_data"
    },
    {
     "data": {
      "text/latex": [
       "$(449,13) ⇒ (a ^ 2 - b ^ 2) - n = (449 ^ 2 - 13 ^ 2) - 200819 = 613$"
      ],
      "text/plain": [
       "L\"$(449,13) ⇒ (a ^ 2 - b ^ 2) - n = (449 ^ 2 - 13 ^ 2) - 200819 = 613$\""
      ]
     },
     "metadata": {},
     "output_type": "display_data"
    },
    {
     "data": {
      "text/latex": [
       "$b = b + 1$"
      ],
      "text/plain": [
       "L\"$b = b + 1$\""
      ]
     },
     "metadata": {},
     "output_type": "display_data"
    },
    {
     "data": {
      "text/latex": [
       "$(449,14) ⇒ (a ^ 2 - b ^ 2) - n = (449 ^ 2 - 14 ^ 2) - 200819 = 586$"
      ],
      "text/plain": [
       "L\"$(449,14) ⇒ (a ^ 2 - b ^ 2) - n = (449 ^ 2 - 14 ^ 2) - 200819 = 586$\""
      ]
     },
     "metadata": {},
     "output_type": "display_data"
    },
    {
     "data": {
      "text/latex": [
       "$b = b + 1$"
      ],
      "text/plain": [
       "L\"$b = b + 1$\""
      ]
     },
     "metadata": {},
     "output_type": "display_data"
    },
    {
     "data": {
      "text/latex": [
       "$(449,15) ⇒ (a ^ 2 - b ^ 2) - n = (449 ^ 2 - 15 ^ 2) - 200819 = 557$"
      ],
      "text/plain": [
       "L\"$(449,15) ⇒ (a ^ 2 - b ^ 2) - n = (449 ^ 2 - 15 ^ 2) - 200819 = 557$\""
      ]
     },
     "metadata": {},
     "output_type": "display_data"
    },
    {
     "data": {
      "text/latex": [
       "$b = b + 1$"
      ],
      "text/plain": [
       "L\"$b = b + 1$\""
      ]
     },
     "metadata": {},
     "output_type": "display_data"
    },
    {
     "data": {
      "text/latex": [
       "$(449,16) ⇒ (a ^ 2 - b ^ 2) - n = (449 ^ 2 - 16 ^ 2) - 200819 = 526$"
      ],
      "text/plain": [
       "L\"$(449,16) ⇒ (a ^ 2 - b ^ 2) - n = (449 ^ 2 - 16 ^ 2) - 200819 = 526$\""
      ]
     },
     "metadata": {},
     "output_type": "display_data"
    },
    {
     "data": {
      "text/latex": [
       "$b = b + 1$"
      ],
      "text/plain": [
       "L\"$b = b + 1$\""
      ]
     },
     "metadata": {},
     "output_type": "display_data"
    },
    {
     "data": {
      "text/latex": [
       "$(449,17) ⇒ (a ^ 2 - b ^ 2) - n = (449 ^ 2 - 17 ^ 2) - 200819 = 493$"
      ],
      "text/plain": [
       "L\"$(449,17) ⇒ (a ^ 2 - b ^ 2) - n = (449 ^ 2 - 17 ^ 2) - 200819 = 493$\""
      ]
     },
     "metadata": {},
     "output_type": "display_data"
    },
    {
     "data": {
      "text/latex": [
       "$b = b + 1$"
      ],
      "text/plain": [
       "L\"$b = b + 1$\""
      ]
     },
     "metadata": {},
     "output_type": "display_data"
    },
    {
     "data": {
      "text/latex": [
       "$(449,18) ⇒ (a ^ 2 - b ^ 2) - n = (449 ^ 2 - 18 ^ 2) - 200819 = 458$"
      ],
      "text/plain": [
       "L\"$(449,18) ⇒ (a ^ 2 - b ^ 2) - n = (449 ^ 2 - 18 ^ 2) - 200819 = 458$\""
      ]
     },
     "metadata": {},
     "output_type": "display_data"
    },
    {
     "data": {
      "text/latex": [
       "$b = b + 1$"
      ],
      "text/plain": [
       "L\"$b = b + 1$\""
      ]
     },
     "metadata": {},
     "output_type": "display_data"
    },
    {
     "data": {
      "text/latex": [
       "$(449,19) ⇒ (a ^ 2 - b ^ 2) - n = (449 ^ 2 - 19 ^ 2) - 200819 = 421$"
      ],
      "text/plain": [
       "L\"$(449,19) ⇒ (a ^ 2 - b ^ 2) - n = (449 ^ 2 - 19 ^ 2) - 200819 = 421$\""
      ]
     },
     "metadata": {},
     "output_type": "display_data"
    },
    {
     "data": {
      "text/latex": [
       "$b = b + 1$"
      ],
      "text/plain": [
       "L\"$b = b + 1$\""
      ]
     },
     "metadata": {},
     "output_type": "display_data"
    },
    {
     "data": {
      "text/latex": [
       "$(449,20) ⇒ (a ^ 2 - b ^ 2) - n = (449 ^ 2 - 20 ^ 2) - 200819 = 382$"
      ],
      "text/plain": [
       "L\"$(449,20) ⇒ (a ^ 2 - b ^ 2) - n = (449 ^ 2 - 20 ^ 2) - 200819 = 382$\""
      ]
     },
     "metadata": {},
     "output_type": "display_data"
    },
    {
     "data": {
      "text/latex": [
       "$b = b + 1$"
      ],
      "text/plain": [
       "L\"$b = b + 1$\""
      ]
     },
     "metadata": {},
     "output_type": "display_data"
    },
    {
     "data": {
      "text/latex": [
       "$(449,21) ⇒ (a ^ 2 - b ^ 2) - n = (449 ^ 2 - 21 ^ 2) - 200819 = 341$"
      ],
      "text/plain": [
       "L\"$(449,21) ⇒ (a ^ 2 - b ^ 2) - n = (449 ^ 2 - 21 ^ 2) - 200819 = 341$\""
      ]
     },
     "metadata": {},
     "output_type": "display_data"
    },
    {
     "data": {
      "text/latex": [
       "$b = b + 1$"
      ],
      "text/plain": [
       "L\"$b = b + 1$\""
      ]
     },
     "metadata": {},
     "output_type": "display_data"
    },
    {
     "data": {
      "text/latex": [
       "$(449,22) ⇒ (a ^ 2 - b ^ 2) - n = (449 ^ 2 - 22 ^ 2) - 200819 = 298$"
      ],
      "text/plain": [
       "L\"$(449,22) ⇒ (a ^ 2 - b ^ 2) - n = (449 ^ 2 - 22 ^ 2) - 200819 = 298$\""
      ]
     },
     "metadata": {},
     "output_type": "display_data"
    },
    {
     "data": {
      "text/latex": [
       "$b = b + 1$"
      ],
      "text/plain": [
       "L\"$b = b + 1$\""
      ]
     },
     "metadata": {},
     "output_type": "display_data"
    },
    {
     "data": {
      "text/latex": [
       "$(449,23) ⇒ (a ^ 2 - b ^ 2) - n = (449 ^ 2 - 23 ^ 2) - 200819 = 253$"
      ],
      "text/plain": [
       "L\"$(449,23) ⇒ (a ^ 2 - b ^ 2) - n = (449 ^ 2 - 23 ^ 2) - 200819 = 253$\""
      ]
     },
     "metadata": {},
     "output_type": "display_data"
    },
    {
     "data": {
      "text/latex": [
       "$b = b + 1$"
      ],
      "text/plain": [
       "L\"$b = b + 1$\""
      ]
     },
     "metadata": {},
     "output_type": "display_data"
    },
    {
     "data": {
      "text/latex": [
       "$(449,24) ⇒ (a ^ 2 - b ^ 2) - n = (449 ^ 2 - 24 ^ 2) - 200819 = 206$"
      ],
      "text/plain": [
       "L\"$(449,24) ⇒ (a ^ 2 - b ^ 2) - n = (449 ^ 2 - 24 ^ 2) - 200819 = 206$\""
      ]
     },
     "metadata": {},
     "output_type": "display_data"
    },
    {
     "data": {
      "text/latex": [
       "$b = b + 1$"
      ],
      "text/plain": [
       "L\"$b = b + 1$\""
      ]
     },
     "metadata": {},
     "output_type": "display_data"
    },
    {
     "data": {
      "text/latex": [
       "$(449,25) ⇒ (a ^ 2 - b ^ 2) - n = (449 ^ 2 - 25 ^ 2) - 200819 = 157$"
      ],
      "text/plain": [
       "L\"$(449,25) ⇒ (a ^ 2 - b ^ 2) - n = (449 ^ 2 - 25 ^ 2) - 200819 = 157$\""
      ]
     },
     "metadata": {},
     "output_type": "display_data"
    },
    {
     "data": {
      "text/latex": [
       "$b = b + 1$"
      ],
      "text/plain": [
       "L\"$b = b + 1$\""
      ]
     },
     "metadata": {},
     "output_type": "display_data"
    },
    {
     "data": {
      "text/latex": [
       "$(449,26) ⇒ (a ^ 2 - b ^ 2) - n = (449 ^ 2 - 26 ^ 2) - 200819 = 106$"
      ],
      "text/plain": [
       "L\"$(449,26) ⇒ (a ^ 2 - b ^ 2) - n = (449 ^ 2 - 26 ^ 2) - 200819 = 106$\""
      ]
     },
     "metadata": {},
     "output_type": "display_data"
    },
    {
     "data": {
      "text/latex": [
       "$b = b + 1$"
      ],
      "text/plain": [
       "L\"$b = b + 1$\""
      ]
     },
     "metadata": {},
     "output_type": "display_data"
    },
    {
     "data": {
      "text/latex": [
       "$(449,27) ⇒ (a ^ 2 - b ^ 2) - n = (449 ^ 2 - 27 ^ 2) - 200819 = 53$"
      ],
      "text/plain": [
       "L\"$(449,27) ⇒ (a ^ 2 - b ^ 2) - n = (449 ^ 2 - 27 ^ 2) - 200819 = 53$\""
      ]
     },
     "metadata": {},
     "output_type": "display_data"
    },
    {
     "data": {
      "text/latex": [
       "$b = b + 1$"
      ],
      "text/plain": [
       "L\"$b = b + 1$\""
      ]
     },
     "metadata": {},
     "output_type": "display_data"
    },
    {
     "data": {
      "text/latex": [
       "$(449,28) ⇒ (a ^ 2 - b ^ 2) - n = (449 ^ 2 - 28 ^ 2) - 200819 = -2$"
      ],
      "text/plain": [
       "L\"$(449,28) ⇒ (a ^ 2 - b ^ 2) - n = (449 ^ 2 - 28 ^ 2) - 200819 = -2$\""
      ]
     },
     "metadata": {},
     "output_type": "display_data"
    },
    {
     "data": {
      "text/latex": [
       "$a = a + 1$"
      ],
      "text/plain": [
       "L\"$a = a + 1$\""
      ]
     },
     "metadata": {},
     "output_type": "display_data"
    },
    {
     "data": {
      "text/latex": [
       "$(450,28) ⇒ (a ^ 2 - b ^ 2) - n = (450 ^ 2 - 28 ^ 2) - 200819 = 897$"
      ],
      "text/plain": [
       "L\"$(450,28) ⇒ (a ^ 2 - b ^ 2) - n = (450 ^ 2 - 28 ^ 2) - 200819 = 897$\""
      ]
     },
     "metadata": {},
     "output_type": "display_data"
    },
    {
     "data": {
      "text/latex": [
       "$b = b + 1$"
      ],
      "text/plain": [
       "L\"$b = b + 1$\""
      ]
     },
     "metadata": {},
     "output_type": "display_data"
    },
    {
     "data": {
      "text/latex": [
       "$(450,29) ⇒ (a ^ 2 - b ^ 2) - n = (450 ^ 2 - 29 ^ 2) - 200819 = 840$"
      ],
      "text/plain": [
       "L\"$(450,29) ⇒ (a ^ 2 - b ^ 2) - n = (450 ^ 2 - 29 ^ 2) - 200819 = 840$\""
      ]
     },
     "metadata": {},
     "output_type": "display_data"
    },
    {
     "data": {
      "text/latex": [
       "$b = b + 1$"
      ],
      "text/plain": [
       "L\"$b = b + 1$\""
      ]
     },
     "metadata": {},
     "output_type": "display_data"
    },
    {
     "data": {
      "text/latex": [
       "$(450,30) ⇒ (a ^ 2 - b ^ 2) - n = (450 ^ 2 - 30 ^ 2) - 200819 = 781$"
      ],
      "text/plain": [
       "L\"$(450,30) ⇒ (a ^ 2 - b ^ 2) - n = (450 ^ 2 - 30 ^ 2) - 200819 = 781$\""
      ]
     },
     "metadata": {},
     "output_type": "display_data"
    },
    {
     "data": {
      "text/latex": [
       "$b = b + 1$"
      ],
      "text/plain": [
       "L\"$b = b + 1$\""
      ]
     },
     "metadata": {},
     "output_type": "display_data"
    },
    {
     "data": {
      "text/latex": [
       "$(450,31) ⇒ (a ^ 2 - b ^ 2) - n = (450 ^ 2 - 31 ^ 2) - 200819 = 720$"
      ],
      "text/plain": [
       "L\"$(450,31) ⇒ (a ^ 2 - b ^ 2) - n = (450 ^ 2 - 31 ^ 2) - 200819 = 720$\""
      ]
     },
     "metadata": {},
     "output_type": "display_data"
    },
    {
     "data": {
      "text/latex": [
       "$b = b + 1$"
      ],
      "text/plain": [
       "L\"$b = b + 1$\""
      ]
     },
     "metadata": {},
     "output_type": "display_data"
    },
    {
     "data": {
      "text/latex": [
       "$(450,32) ⇒ (a ^ 2 - b ^ 2) - n = (450 ^ 2 - 32 ^ 2) - 200819 = 657$"
      ],
      "text/plain": [
       "L\"$(450,32) ⇒ (a ^ 2 - b ^ 2) - n = (450 ^ 2 - 32 ^ 2) - 200819 = 657$\""
      ]
     },
     "metadata": {},
     "output_type": "display_data"
    },
    {
     "data": {
      "text/latex": [
       "$b = b + 1$"
      ],
      "text/plain": [
       "L\"$b = b + 1$\""
      ]
     },
     "metadata": {},
     "output_type": "display_data"
    },
    {
     "data": {
      "text/latex": [
       "$(450,33) ⇒ (a ^ 2 - b ^ 2) - n = (450 ^ 2 - 33 ^ 2) - 200819 = 592$"
      ],
      "text/plain": [
       "L\"$(450,33) ⇒ (a ^ 2 - b ^ 2) - n = (450 ^ 2 - 33 ^ 2) - 200819 = 592$\""
      ]
     },
     "metadata": {},
     "output_type": "display_data"
    },
    {
     "data": {
      "text/latex": [
       "$b = b + 1$"
      ],
      "text/plain": [
       "L\"$b = b + 1$\""
      ]
     },
     "metadata": {},
     "output_type": "display_data"
    },
    {
     "data": {
      "text/latex": [
       "$(450,34) ⇒ (a ^ 2 - b ^ 2) - n = (450 ^ 2 - 34 ^ 2) - 200819 = 525$"
      ],
      "text/plain": [
       "L\"$(450,34) ⇒ (a ^ 2 - b ^ 2) - n = (450 ^ 2 - 34 ^ 2) - 200819 = 525$\""
      ]
     },
     "metadata": {},
     "output_type": "display_data"
    },
    {
     "data": {
      "text/latex": [
       "$b = b + 1$"
      ],
      "text/plain": [
       "L\"$b = b + 1$\""
      ]
     },
     "metadata": {},
     "output_type": "display_data"
    },
    {
     "data": {
      "text/latex": [
       "$(450,35) ⇒ (a ^ 2 - b ^ 2) - n = (450 ^ 2 - 35 ^ 2) - 200819 = 456$"
      ],
      "text/plain": [
       "L\"$(450,35) ⇒ (a ^ 2 - b ^ 2) - n = (450 ^ 2 - 35 ^ 2) - 200819 = 456$\""
      ]
     },
     "metadata": {},
     "output_type": "display_data"
    },
    {
     "data": {
      "text/latex": [
       "$b = b + 1$"
      ],
      "text/plain": [
       "L\"$b = b + 1$\""
      ]
     },
     "metadata": {},
     "output_type": "display_data"
    },
    {
     "data": {
      "text/latex": [
       "$(450,36) ⇒ (a ^ 2 - b ^ 2) - n = (450 ^ 2 - 36 ^ 2) - 200819 = 385$"
      ],
      "text/plain": [
       "L\"$(450,36) ⇒ (a ^ 2 - b ^ 2) - n = (450 ^ 2 - 36 ^ 2) - 200819 = 385$\""
      ]
     },
     "metadata": {},
     "output_type": "display_data"
    },
    {
     "data": {
      "text/latex": [
       "$b = b + 1$"
      ],
      "text/plain": [
       "L\"$b = b + 1$\""
      ]
     },
     "metadata": {},
     "output_type": "display_data"
    },
    {
     "data": {
      "text/latex": [
       "$(450,37) ⇒ (a ^ 2 - b ^ 2) - n = (450 ^ 2 - 37 ^ 2) - 200819 = 312$"
      ],
      "text/plain": [
       "L\"$(450,37) ⇒ (a ^ 2 - b ^ 2) - n = (450 ^ 2 - 37 ^ 2) - 200819 = 312$\""
      ]
     },
     "metadata": {},
     "output_type": "display_data"
    },
    {
     "data": {
      "text/latex": [
       "$b = b + 1$"
      ],
      "text/plain": [
       "L\"$b = b + 1$\""
      ]
     },
     "metadata": {},
     "output_type": "display_data"
    },
    {
     "data": {
      "text/latex": [
       "$(450,38) ⇒ (a ^ 2 - b ^ 2) - n = (450 ^ 2 - 38 ^ 2) - 200819 = 237$"
      ],
      "text/plain": [
       "L\"$(450,38) ⇒ (a ^ 2 - b ^ 2) - n = (450 ^ 2 - 38 ^ 2) - 200819 = 237$\""
      ]
     },
     "metadata": {},
     "output_type": "display_data"
    },
    {
     "data": {
      "text/latex": [
       "$b = b + 1$"
      ],
      "text/plain": [
       "L\"$b = b + 1$\""
      ]
     },
     "metadata": {},
     "output_type": "display_data"
    },
    {
     "data": {
      "text/latex": [
       "$(450,39) ⇒ (a ^ 2 - b ^ 2) - n = (450 ^ 2 - 39 ^ 2) - 200819 = 160$"
      ],
      "text/plain": [
       "L\"$(450,39) ⇒ (a ^ 2 - b ^ 2) - n = (450 ^ 2 - 39 ^ 2) - 200819 = 160$\""
      ]
     },
     "metadata": {},
     "output_type": "display_data"
    },
    {
     "data": {
      "text/latex": [
       "$b = b + 1$"
      ],
      "text/plain": [
       "L\"$b = b + 1$\""
      ]
     },
     "metadata": {},
     "output_type": "display_data"
    },
    {
     "data": {
      "text/latex": [
       "$(450,40) ⇒ (a ^ 2 - b ^ 2) - n = (450 ^ 2 - 40 ^ 2) - 200819 = 81$"
      ],
      "text/plain": [
       "L\"$(450,40) ⇒ (a ^ 2 - b ^ 2) - n = (450 ^ 2 - 40 ^ 2) - 200819 = 81$\""
      ]
     },
     "metadata": {},
     "output_type": "display_data"
    },
    {
     "data": {
      "text/latex": [
       "$b = b + 1$"
      ],
      "text/plain": [
       "L\"$b = b + 1$\""
      ]
     },
     "metadata": {},
     "output_type": "display_data"
    },
    {
     "data": {
      "text/latex": [
       "$(450,41) ⇒ (a ^ 2 - b ^ 2) - n = (450 ^ 2 - 41 ^ 2) - 200819 = 0$"
      ],
      "text/plain": [
       "L\"$(450,41) ⇒ (a ^ 2 - b ^ 2) - n = (450 ^ 2 - 41 ^ 2) - 200819 = 0$\""
      ]
     },
     "metadata": {},
     "output_type": "display_data"
    },
    {
     "data": {
      "text/latex": [
       "$p = a - b = 450 - 41 = 409$"
      ],
      "text/plain": [
       "L\"$p = a - b = 450 - 41 = 409$\""
      ]
     },
     "metadata": {},
     "output_type": "display_data"
    }
   ],
   "source": [
    "\n",
    "# def fermat(n):\n",
    "# a = math.ceil(math.sqrt(n))\n",
    "# b = a**2 - n\n",
    "# while not math.sqrt(b).is_integer():\n",
    "# a += 1\n",
    "# b = a**2 - n\n",
    "# return a - math.isqrt(b)\n",
    "\n",
    "function fermat_classroom(n)\n",
    "\n",
    "    # ret_f = :((a^2 - b^2) - N)\n",
    "    ret_expr_tmp = :((a^2 - b^2) - n)\n",
    "    display(L\"n = pq = %$n\")\n",
    "    display(L\"pq = a^2 - b^2\")\n",
    "    display(L\"$0$ = $%$ret_expr_tmp$\")\n",
    "    display(@latexify a = sqrt(n) = $(sqrt(n)) = $(isqrt(n)))\n",
    "    a_tmp = isqrt(n)\n",
    "    b_tmp = 0\n",
    "    while true\n",
    "        ret = (a_tmp^2 - b_tmp^2 - n)\n",
    "\n",
    "        ret_tmp = rep!(copy(ret_expr_tmp), Dict(:a => a_tmp, :b => b_tmp, :n => n))\n",
    "        display(L\"(%$a_tmp,%$b_tmp) ⇒ %$ret_expr_tmp = %$ret_tmp = %$ret\")\n",
    "\n",
    "        if ret == 0\n",
    "            break\n",
    "        elseif ret > 0\n",
    "            b_tmp += 1\n",
    "            display(L\"b = b + 1\")\n",
    "        else\n",
    "            a_tmp += 1\n",
    "            display(L\"a = a + 1\")\n",
    "        end\n",
    "    end\n",
    "    display(L\"p = a - b = %$a_tmp - %$b_tmp = %$(a_tmp - b_tmp)\")\n",
    "    a_tmp - b_tmp\n",
    "end\n",
    "\n",
    "fermat_classroom(200819)\n",
    "print()"
   ]
  }
 ],
 "metadata": {
  "kernelspec": {
   "display_name": "Julia 1.8.5",
   "language": "julia",
   "name": "julia-1.8"
  },
  "language_info": {
   "file_extension": ".jl",
   "mimetype": "application/julia",
   "name": "julia",
   "version": "1.8.5"
  },
  "orig_nbformat": 4
 },
 "nbformat": 4,
 "nbformat_minor": 2
}
